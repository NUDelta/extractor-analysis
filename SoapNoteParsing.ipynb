{
 "cells": [
  {
   "cell_type": "markdown",
   "metadata": {},
   "source": [
    "## Imports and Global Functions"
   ]
  },
  {
   "cell_type": "code",
   "execution_count": 1,
   "metadata": {},
   "outputs": [],
   "source": [
    "%load_ext autoreload\n",
    "%autoreload 2"
   ]
  },
  {
   "cell_type": "code",
   "execution_count": 2,
   "metadata": {},
   "outputs": [],
   "source": [
    "import pandas as pd\n",
    "from datetime import datetime\n",
    "from imports.project import Project"
   ]
  },
  {
   "cell_type": "code",
   "execution_count": 3,
   "metadata": {},
   "outputs": [],
   "source": [
    "from fpdf import FPDF"
   ]
  },
  {
   "cell_type": "markdown",
   "metadata": {},
   "source": [
    "## Setup Projects and Students"
   ]
  },
  {
   "cell_type": "code",
   "execution_count": 4,
   "metadata": {},
   "outputs": [],
   "source": [
    "projects = [\n",
    "    {\n",
    "        'name': 'Metacognitive Reflection',\n",
    "        'students': ['Victoria'],\n",
    "        'sig': 'Agile Research Studios',\n",
    "        'sig_abbr': 'ARS',\n",
    "        'soap_url': 'https://docs.google.com/spreadsheets/d/1w7dbH1451XGOp1F2zFkrLg09Q0zDTPjhS4F2Bsl9OzY/edit?usp=sharing',\n",
    "        'sheet_num': 1\n",
    "    },\n",
    "    {\n",
    "        'name': 'The Weekly',\n",
    "        'students': ['Shankar'],\n",
    "        'sig': 'Agile Research Studios',\n",
    "        'sig_abbr': 'ARS',\n",
    "        'soap_url': 'https://docs.google.com/spreadsheets/d/1w7dbH1451XGOp1F2zFkrLg09Q0zDTPjhS4F2Bsl9OzY/edit?usp=sharing',\n",
    "        'sheet_num': 2\n",
    "    },\n",
    "    {\n",
    "        'name': 'Orchestration Scripts',\n",
    "        'students': ['Richard'],\n",
    "        'sig': 'Breaking Boundaries',\n",
    "        'sig_abbr': 'BB',\n",
    "        'soap_url': 'https://docs.google.com/spreadsheets/d/1w7dbH1451XGOp1F2zFkrLg09Q0zDTPjhS4F2Bsl9OzY/edit?usp=sharing',\n",
    "        'sheet_num': 3\n",
    "    },\n",
    "    {\n",
    "        'name': 'Regulation Devices',\n",
    "        'students': ['Josh', 'Caryl'],\n",
    "        'sig': 'Breaking Boundaries',\n",
    "        'sig_abbr': 'BB',\n",
    "        'soap_url': 'https://docs.google.com/spreadsheets/d/1w7dbH1451XGOp1F2zFkrLg09Q0zDTPjhS4F2Bsl9OzY/edit?usp=sharing',\n",
    "        'sheet_num': 4\n",
    "    },\n",
    "    {\n",
    "        'name': 'Scaffolded Exercises',\n",
    "        'students': ['Maxine'],\n",
    "        'sig': 'Readily Available Learning Experiences',\n",
    "        'sig_abbr': 'RALE',\n",
    "        'soap_url': 'https://docs.google.com/spreadsheets/d/1w7dbH1451XGOp1F2zFkrLg09Q0zDTPjhS4F2Bsl9OzY/edit?usp=sharing',\n",
    "        'sheet_num': 5\n",
    "    },\n",
    "    {\n",
    "        'name': 'Knowledge Maps',\n",
    "        'students': ['Daniel'],\n",
    "        'sig': 'Readily Available Learning Experiences',\n",
    "        'sig_abbr': 'RALE',\n",
    "        'soap_url': 'https://docs.google.com/spreadsheets/d/1w7dbH1451XGOp1F2zFkrLg09Q0zDTPjhS4F2Bsl9OzY/edit?usp=sharing',\n",
    "        'sheet_num': 6\n",
    "    },\n",
    "    {\n",
    "        'name': 'CE API',\n",
    "        'students': ['Navin', 'Mary'],\n",
    "        'sig': 'Collective Experiences',\n",
    "        'sig_abbr': 'CE',\n",
    "        'soap_url': 'https://docs.google.com/spreadsheets/d/1w7dbH1451XGOp1F2zFkrLg09Q0zDTPjhS4F2Bsl9OzY/edit?usp=sharing',\n",
    "        'sheet_num': 7\n",
    "    },\n",
    "    {\n",
    "        'name': 'Collective Narrative',\n",
    "        'students': ['Sanfeng', 'Gabriel'],\n",
    "        'sig': 'Collective Experiences',\n",
    "        'sig_abbr': 'CE',\n",
    "        'soap_url': 'https://docs.google.com/spreadsheets/d/1w7dbH1451XGOp1F2zFkrLg09Q0zDTPjhS4F2Bsl9OzY/edit?usp=sharing',\n",
    "        'sheet_num': 8\n",
    "    },\n",
    "    {\n",
    "        'name': 'Peer-to-Peer Delivery',\n",
    "        'students': ['Cooper'],\n",
    "        'sig': 'On-the-Go Crowdsourcing',\n",
    "        'sig_abbr': 'OTG',\n",
    "        'soap_url': 'https://docs.google.com/spreadsheets/d/1w7dbH1451XGOp1F2zFkrLg09Q0zDTPjhS4F2Bsl9OzY/edit?usp=sharing',\n",
    "        'sheet_num': 9\n",
    "    }\n",
    "]"
   ]
  },
  {
   "cell_type": "markdown",
   "metadata": {},
   "source": [
    "# Generate PDFs of Soap Notes"
   ]
  },
  {
   "cell_type": "code",
   "execution_count": 5,
   "metadata": {},
   "outputs": [],
   "source": [
    "def normalize_string(x):\n",
    "    return x.strip().encode('latin-1', 'ignore').decode('latin-1')\n",
    "\n",
    "def add_soap_section(pdf, header_font, text_font, section_header, section_text):\n",
    "    pdf.set_font(family='courier', style='U', size=header_font)\n",
    "    pdf.cell(w=0, h=10, txt=section_header, ln=1)\n",
    "\n",
    "    pdf.set_font(family='courier', size=text_font)\n",
    "    pdf.multi_cell(w=0, h=5, txt=normalize_string(section_text))"
   ]
  },
  {
   "cell_type": "code",
   "execution_count": 6,
   "metadata": {},
   "outputs": [],
   "source": [
    "# formatting for pdf\n",
    "title_font_size = 18\n",
    "soap_header_font_size = 14\n",
    "soap_section_font_size = 12\n",
    "text_font_size = 10\n",
    "\n",
    "font_family = 'courier'"
   ]
  },
  {
   "cell_type": "code",
   "execution_count": 7,
   "metadata": {},
   "outputs": [],
   "source": [
    "# generate SOAP pdfs for each project\n",
    "for curr_proj in projects:\n",
    "    # create a new Project for each project, and scrape SOAP notes for them\n",
    "    proj = Project(curr_proj['name'], curr_proj['sig'], curr_proj['students'], curr_proj['soap_url'], curr_proj['sheet_num'])\n",
    "    proj.scrape_soap_notes()\n",
    "    \n",
    "    # create pdf to add SOAP notes to\n",
    "    pdf = FPDF()\n",
    "    pdf.add_page()\n",
    "    \n",
    "    # add header for project name, sig, and students\n",
    "    pdf.set_font(family=font_family, style='B', size=title_font_size)\n",
    "    pdf.cell(w=0, h=10, txt='{} SOAP Notes'.format(proj.name), ln=1, align='C')\n",
    "    pdf.cell(w=0, h=10, txt='Student(s): {}'.format(' and '.join(proj.students)), ln=2, align='C')\n",
    "    pdf.cell(w=0, h=10, txt='SIG: {} ({})'.format(proj.sig, curr_proj['sig_abbr']), ln=2, align='C')\n",
    "    pdf.ln()\n",
    "    \n",
    "    # add each SOAP note to pdf\n",
    "    num_notes = len(proj.soap_notes)\n",
    "    for index, curr_soap in enumerate(proj.soap_notes):\n",
    "        # add header for soap note date\n",
    "        curr_date = curr_soap.date.strftime('%m/%d/%Y')\n",
    "        pdf.set_font(family=font_family, style='B', size=soap_header_font_size)\n",
    "        pdf.cell(w=0, h=10, txt='SOAP Note from {} SIG'.format(curr_date), ln=1)\n",
    "\n",
    "        # add each soap section\n",
    "        add_soap_section(pdf, soap_section_font_size, text_font_size, 'Subjective or summary by the student', curr_soap.get_subjective())\n",
    "        add_soap_section(pdf, soap_section_font_size, text_font_size, 'Objective data or information matching the student summary', curr_soap.get_objective())\n",
    "        add_soap_section(pdf, soap_section_font_size, text_font_size, 'Assessment of the situation', curr_soap.get_assessment())\n",
    "        add_soap_section(pdf, soap_section_font_size, text_font_size, 'Plan for follow-up', curr_soap.get_plan())\n",
    "        \n",
    "        # add page if still another soap note to add\n",
    "        if index < num_notes - 1:\n",
    "            pdf.add_page()\n",
    "    \n",
    "    # export pdf\n",
    "    pdf.output('./documents/{}_{}_soap.pdf'.format(curr_proj['sig_abbr'].lower(),\n",
    "                                                   proj.name.lower().replace(' ', '-')))"
   ]
  },
  {
   "cell_type": "code",
   "execution_count": null,
   "metadata": {},
   "outputs": [],
   "source": []
  }
 ],
 "metadata": {
  "kernelspec": {
   "display_name": "Python 3",
   "language": "python",
   "name": "python3"
  },
  "language_info": {
   "codemirror_mode": {
    "name": "ipython",
    "version": 3
   },
   "file_extension": ".py",
   "mimetype": "text/x-python",
   "name": "python",
   "nbconvert_exporter": "python",
   "pygments_lexer": "ipython3",
   "version": "3.7.2"
  }
 },
 "nbformat": 4,
 "nbformat_minor": 2
}
